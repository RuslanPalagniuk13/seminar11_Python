{
 "cells": [
  {
   "cell_type": "markdown",
   "id": "e74b18d3",
   "metadata": {},
   "source": [
    "## Задача (семинар 11):\n",
    "\n",
    "f(x) = (sin(x)/2 + cos(x)/2) ** 2 * sin(x)\n",
    "\n",
    "1. Определить корни\n",
    "\n",
    "2. Найти интервалы, на которых функция возрастает\n",
    "\n",
    "3. Найти интервалы, на которых функция убывает\n",
    "\n",
    "4. Построить график\n",
    "\n",
    "5. Вычислить вершину\n",
    "\n",
    "6. Определить промежутки, на котором f > 0\n",
    "\n",
    "7. Определить промежутки, на котором f < 0"
   ]
  },
  {
   "cell_type": "code",
   "execution_count": 1,
   "id": "0fe281f0",
   "metadata": {},
   "outputs": [],
   "source": [
    "from sympy import *"
   ]
  },
  {
   "cell_type": "code",
   "execution_count": 2,
   "id": "cd0563f7",
   "metadata": {},
   "outputs": [],
   "source": [
    "x = Symbol('x')"
   ]
  },
  {
   "cell_type": "code",
   "execution_count": 3,
   "id": "081eaeaf",
   "metadata": {},
   "outputs": [
    {
     "data": {
      "text/latex": [
       "$\\displaystyle \\left(\\frac{\\sin{\\left(x \\right)}}{2} + \\frac{\\cos{\\left(x \\right)}}{2}\\right)^{2} \\sin{\\left(x \\right)}$"
      ],
      "text/plain": [
       "(sin(x)/2 + cos(x)/2)**2*sin(x)"
      ]
     },
     "execution_count": 3,
     "metadata": {},
     "output_type": "execute_result"
    }
   ],
   "source": [
    "func = (sin(x)/2 + cos(x)/2) ** 2 * sin(x)\n",
    "func"
   ]
  },
  {
   "cell_type": "markdown",
   "id": "2d123dd4",
   "metadata": {},
   "source": [
    "## Переодичность функции"
   ]
  },
  {
   "cell_type": "code",
   "execution_count": 4,
   "id": "56d07a6d",
   "metadata": {},
   "outputs": [
    {
     "data": {
      "text/latex": [
       "$\\displaystyle 2 \\pi$"
      ],
      "text/plain": [
       "2*pi"
      ]
     },
     "execution_count": 4,
     "metadata": {},
     "output_type": "execute_result"
    }
   ],
   "source": [
    "t = periodicity(func,x)\n",
    "t"
   ]
  },
  {
   "cell_type": "markdown",
   "id": "91ee217b",
   "metadata": {},
   "source": [
    "## 1. Определяем корни"
   ]
  },
  {
   "cell_type": "code",
   "execution_count": 5,
   "id": "00f4f94c",
   "metadata": {},
   "outputs": [
    {
     "data": {
      "text/plain": [
       "[-pi/4, 0, 3*pi/4, pi]"
      ]
     },
     "execution_count": 5,
     "metadata": {},
     "output_type": "execute_result"
    }
   ],
   "source": [
    "simple = trigsimp(func)\n",
    "root = sorted(solve(simple))\n",
    "root"
   ]
  },
  {
   "cell_type": "markdown",
   "id": "09dabd64",
   "metadata": {},
   "source": [
    "## 2. Находим интервалы, на которых функция возрастает. \n",
    "## 3. Находим интервалы, на которых функция убывает."
   ]
  },
  {
   "cell_type": "code",
   "execution_count": 6,
   "id": "8af3e751",
   "metadata": {},
   "outputs": [
    {
     "name": "stdout",
     "output_type": "stream",
     "text": [
      " Производная функции:\n",
      " (-sin(x) + cos(x))*(sin(x)/2 + cos(x)/2)*sin(x) + (sin(x)/2 + cos(x)/2)**2*cos(x)\n",
      "\n",
      " Корни производной функции:\n",
      " [-2*atan(-3/2 + sqrt(6)*sqrt(5 - sqrt(17))/2 + sqrt(17)/2), -pi/4, 2*atan(-sqrt(6)*sqrt(sqrt(17) + 5)/2 + 3/2 + sqrt(17)/2), 2*atan(-sqrt(17)/2 + sqrt(6)*sqrt(5 - sqrt(17))/2 + 3/2), 3*pi/4, 2*atan(3/2 + sqrt(17)/2 + sqrt(6)*sqrt(sqrt(17) + 5)/2)]\n",
      "\n",
      "1. Функция возрастает на промежутке -2*atan(-3/2 + sqrt(6)*sqrt(5 - sqrt(17))/2 + sqrt(17)/2) : -pi/4.\n",
      "\n",
      "2. Функция убывает на промежутке -pi/4 : 2*atan(-sqrt(6)*sqrt(sqrt(17) + 5)/2 + 3/2 + sqrt(17)/2).\n",
      "\n",
      "3. Функция возрастает на промежутке 2*atan(-sqrt(6)*sqrt(sqrt(17) + 5)/2 + 3/2 + sqrt(17)/2) : 2*atan(-sqrt(17)/2 + sqrt(6)*sqrt(5 - sqrt(17))/2 + 3/2).\n",
      "\n",
      "4. Функция убывает на промежутке 2*atan(-sqrt(17)/2 + sqrt(6)*sqrt(5 - sqrt(17))/2 + 3/2) : 3*pi/4.\n",
      "\n",
      "5. Функция возрастает на промежутке 3*pi/4 : 2*atan(3/2 + sqrt(17)/2 + sqrt(6)*sqrt(sqrt(17) + 5)/2).\n",
      "\n",
      "6. Функция убывает на промежутке 2*atan(3/2 + sqrt(17)/2 + sqrt(6)*sqrt(sqrt(17) + 5)/2) : -2*atan(-3/2 + sqrt(6)*sqrt(5 - sqrt(17))/2 + sqrt(17)/2) + 2*pi.\n",
      "\n"
     ]
    }
   ],
   "source": [
    "dif=diff(func,x)\n",
    "print(f' Производная функции:\\n {dif}')\n",
    "print()\n",
    "\n",
    "root_dif=sorted(solve(dif))\n",
    "print(f' Корни производной функции:\\n {root_dif}')\n",
    "print()\n",
    "\n",
    "point = root_dif[0] + t\n",
    "root_diff_1 = root_dif[:]\n",
    "root_diff_1.append(point)\n",
    "root_diff_1 = sorted(root_diff_1)\n",
    "for i in range(1, len(root_diff_1)):\n",
    "    a = func.subs(x,root_diff_1[i-1] + 0.000001)\n",
    "    b = func.subs(x,root_diff_1[i] - 0.000001)\n",
    "    if a < b:\n",
    "        print(f'{i}. Функция возрастает на промежутке {root_diff_1[i-1]} : {root_diff_1[i]}.')\n",
    "        print()\n",
    "    else:\n",
    "        print(f'{i}. Функция убывает на промежутке {root_diff_1[i-1]} : {root_diff_1[i]}.')\n",
    "        print()"
   ]
  },
  {
   "cell_type": "markdown",
   "id": "4e35613f",
   "metadata": {},
   "source": [
    "## 4. График на 1 периоде (функции и производной)"
   ]
  },
  {
   "cell_type": "code",
   "execution_count": 7,
   "id": "b76f8285",
   "metadata": {},
   "outputs": [
    {
     "data": {
      "image/png": "[encoded data removed]",
      "text/plain": [
       "<Figure size 640x480 with 1 Axes>"
      ]
     },
     "metadata": {},
     "output_type": "display_data"
    }
   ],
   "source": [
    "graph=plot(simple,dif,(x,-pi,pi))"
   ]
  },
  {
   "cell_type": "markdown",
   "id": "c237f3c8",
   "metadata": {},
   "source": [
    "## 5.Вычисляем вершину"
   ]
  },
  {
   "cell_type": "code",
   "execution_count": 8,
   "id": "bc556252",
   "metadata": {},
   "outputs": [
    {
     "name": "stdout",
     "output_type": "stream",
     "text": [
      "Вершина функции:\n",
      " x = -2*atan(-3/2 + sqrt(6)*sqrt(5 - sqrt(17))/2 + sqrt(17)/2),\n",
      " y = -(-sin(2*atan(-3/2 + sqrt(6)*sqrt(5 - sqrt(17))/2 + sqrt(17)/2))/2 + cos(2*atan(-3/2 + sqrt(6)*sqrt(5 - sqrt(17))/2 + sqrt(17)/2))/2)**2*sin(2*atan(-3/2 + sqrt(6)*sqrt(5 - sqrt(17))/2 + sqrt(17)/2))\n",
      "Вершина функции:\n",
      " x = -pi/4,\n",
      " y = 0\n",
      "Вершина функции:\n",
      " x = 2*atan(-sqrt(6)*sqrt(sqrt(17) + 5)/2 + 3/2 + sqrt(17)/2),\n",
      " y = (sin(2*atan(-sqrt(6)*sqrt(sqrt(17) + 5)/2 + 3/2 + sqrt(17)/2))/2 + cos(2*atan(-sqrt(6)*sqrt(sqrt(17) + 5)/2 + 3/2 + sqrt(17)/2))/2)**2*sin(2*atan(-sqrt(6)*sqrt(sqrt(17) + 5)/2 + 3/2 + sqrt(17)/2))\n",
      "Вершина функции:\n",
      " x = 2*atan(-sqrt(17)/2 + sqrt(6)*sqrt(5 - sqrt(17))/2 + 3/2),\n",
      " y = (cos(2*atan(-sqrt(17)/2 + sqrt(6)*sqrt(5 - sqrt(17))/2 + 3/2))/2 + sin(2*atan(-sqrt(17)/2 + sqrt(6)*sqrt(5 - sqrt(17))/2 + 3/2))/2)**2*sin(2*atan(-sqrt(17)/2 + sqrt(6)*sqrt(5 - sqrt(17))/2 + 3/2))\n",
      "Вершина функции:\n",
      " x = 3*pi/4,\n",
      " y = 0\n",
      "Вершина функции:\n",
      " x = 2*atan(3/2 + sqrt(17)/2 + sqrt(6)*sqrt(sqrt(17) + 5)/2),\n",
      " y = (cos(2*atan(3/2 + sqrt(17)/2 + sqrt(6)*sqrt(sqrt(17) + 5)/2))/2 + sin(2*atan(3/2 + sqrt(17)/2 + sqrt(6)*sqrt(sqrt(17) + 5)/2))/2)**2*sin(2*atan(3/2 + sqrt(17)/2 + sqrt(6)*sqrt(sqrt(17) + 5)/2))\n"
     ]
    }
   ],
   "source": [
    "for dif in root_dif:\n",
    "    point = func.subs(x, dif)\n",
    "    print(f'Вершина функции:\\n x = {dif},\\n y = {point}')"
   ]
  },
  {
   "cell_type": "markdown",
   "id": "2c24a219",
   "metadata": {},
   "source": [
    "## 6.Определяем промежутки, на котором f > 0.\n",
    "## 7.Определяем промежутки, на котором f < 0."
   ]
  },
  {
   "cell_type": "code",
   "execution_count": 9,
   "id": "69538ccb",
   "metadata": {},
   "outputs": [
    {
     "name": "stdout",
     "output_type": "stream",
     "text": [
      "1. Функция на промежутке (-pi/4 : 0) < 0.\n",
      "2. Функция на промежутке (0 : 3*pi/4) > 0.\n",
      "3. Функция на промежутке (3*pi/4 : pi) > 0.\n"
     ]
    }
   ],
   "source": [
    "point1 = root[0] +t\n",
    "lst_zero = root[:]\n",
    "lst_zero.append(point1)\n",
    "for i in range(1, len(lst_zero)-1):\n",
    "    point = lst_zero[i-1]\n",
    "    if func.subs(x, point + 0.0000001) > 0:\n",
    "        print(f'{i}. Функция на промежутке ({lst_zero[i-1]} : {lst_zero[i]}) > 0.')\n",
    "    else:\n",
    "        print(f'{i}. Функция на промежутке ({lst_zero[i-1]} : {lst_zero[i]}) < 0.')"
   ]
  },
  {
   "cell_type": "code",
   "execution_count": null,
   "id": "cafc62a0",
   "metadata": {},
   "outputs": [],
   "source": []
  }
 ],
 "metadata": {
  "kernelspec": {
   "display_name": "Python 3 (ipykernel)",
   "language": "python",
   "name": "python3"
  },
  "language_info": {
   "codemirror_mode": {
    "name": "ipython",
    "version": 3
   },
   "file_extension": ".py",
   "mimetype": "text/x-python",
   "name": "python",
   "nbconvert_exporter": "python",
   "pygments_lexer": "ipython3",
   "version": "3.9.13"
  }
 },
 "nbformat": 4,
 "nbformat_minor": 5
}
